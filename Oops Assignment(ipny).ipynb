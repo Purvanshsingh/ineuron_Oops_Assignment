{
 "cells": [
  {
   "cell_type": "code",
   "execution_count": 3,
   "metadata": {},
   "outputs": [
    {
     "name": "stdout",
     "output_type": "stream",
     "text": [
      "Test of Class A  5\n",
      "Test of Class B  5 10\n",
      "(<class '__main__.C'>, <class '__main__.A'>, <class '__main__.B'>, <class 'object'>)\n"
     ]
    }
   ],
   "source": [
    "class A:\n",
    "    def Test(self,a):\n",
    "        print(\"Test of Class A \",a)\n",
    "        super(A,self).Test(a,10)\n",
    "class B:\n",
    "    def Test(self,a,b):\n",
    "        print(\"Test of Class B \",a,b)\n",
    "class C(A,B):\n",
    "    def test_of_AB(self):\n",
    "        super(C,self).Test(5)\n",
    "        ''' Or Can be Accessed with Class name directly'''\n",
    "        #B.Test(self,5,10)\n",
    "        \n",
    "obj = C()\n",
    "obj.test_of_AB()\n",
    "#Verifing result\n",
    "print(C.__mro__)"
   ]
  },
  {
   "cell_type": "code",
   "execution_count": null,
   "metadata": {},
   "outputs": [],
   "source": []
  }
 ],
 "metadata": {
  "kernelspec": {
   "display_name": "Python 3",
   "language": "python",
   "name": "python3"
  },
  "language_info": {
   "codemirror_mode": {
    "name": "ipython",
    "version": 3
   },
   "file_extension": ".py",
   "mimetype": "text/x-python",
   "name": "python",
   "nbconvert_exporter": "python",
   "pygments_lexer": "ipython3",
   "version": "3.7.4"
  }
 },
 "nbformat": 4,
 "nbformat_minor": 2
}
